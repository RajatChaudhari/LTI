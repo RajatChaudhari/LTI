{
 "cells": [
  {
   "cell_type": "markdown",
   "metadata": {},
   "source": [
    "### Before we get to entitiy recognition, let us observe an approach to extractive text summerization"
   ]
  },
  {
   "cell_type": "code",
   "execution_count": 1,
   "metadata": {
    "collapsed": true
   },
   "outputs": [],
   "source": [
    "import pandas as pd\n",
    "import nltk\n",
    "import matplotlib.pyplot as plt"
   ]
  },
  {
   "cell_type": "code",
   "execution_count": 2,
   "metadata": {
    "collapsed": true
   },
   "outputs": [],
   "source": [
    "from nltk.corpus import stopwords\n",
    "\n",
    "pd.set_option('display.max_colwidth',1000)\n",
    "pd.set_option('display.max_columns', None)"
   ]
  },
  {
   "cell_type": "code",
   "execution_count": 3,
   "metadata": {
    "collapsed": true
   },
   "outputs": [],
   "source": [
    "from sklearn.feature_extraction.text import TfidfVectorizer"
   ]
  },
  {
   "cell_type": "code",
   "execution_count": 4,
   "metadata": {
    "collapsed": true
   },
   "outputs": [],
   "source": [
    "story=[\"long ago , the mice had a general council to consider what measures they could take to outwit their common enemy , the cat . some said this , and some said that but at last a young mouse got up and said he had a proposal to make , which he thought would meet the case . you will all agree , said he , that our chief danger consists in the sly and treacherous manner in which the enemy approaches us . now , if we could receive some signal of her approach , we could easily escape from her . i venture , therefore , to propose that a small bell be procured , and attached by a ribbon round the neck of the cat . by this means we should always know when she was about , and could easily retire while she was in the neighbourhood . this proposal met with general applause , until an old mouse got up and said that is all very well , but who is to bell the cat ? the mice looked at one another and nobody spoke . then the old mouse said it is easy to propose impossible remedies\"]\n"
   ]
  },
  {
   "cell_type": "code",
   "execution_count": 5,
   "metadata": {},
   "outputs": [
    {
     "data": {
      "text/plain": [
       "['long ago , the mice had a general council to consider what measures they could take to outwit their common enemy , the cat . some said this , and some said that but at last a young mouse got up and said he had a proposal to make , which he thought would meet the case . you will all agree , said he , that our chief danger consists in the sly and treacherous manner in which the enemy approaches us . now , if we could receive some signal of her approach , we could easily escape from her . i venture , therefore , to propose that a small bell be procured , and attached by a ribbon round the neck of the cat . by this means we should always know when she was about , and could easily retire while she was in the neighbourhood . this proposal met with general applause , until an old mouse got up and said that is all very well , but who is to bell the cat ? the mice looked at one another and nobody spoke . then the old mouse said it is easy to propose impossible remedies']"
      ]
     },
     "execution_count": 5,
     "metadata": {},
     "output_type": "execute_result"
    }
   ],
   "source": [
    "story"
   ]
  },
  {
   "cell_type": "markdown",
   "metadata": {},
   "source": [
    "### Using TFIDF Vectorizer to fetch important words from the story"
   ]
  },
  {
   "cell_type": "code",
   "execution_count": 6,
   "metadata": {},
   "outputs": [
    {
     "name": "stdout",
     "output_type": "stream",
     "text": [
      "['about', 'ago', 'agree', 'all', 'always', 'an', 'and', 'another', 'applause', 'approach', 'approaches', 'at', 'attached', 'be', 'bell', 'but', 'by', 'case', 'cat', 'chief', 'common', 'consider', 'consists', 'could', 'council', 'danger', 'easily', 'easy', 'enemy', 'escape', 'from', 'general', 'got', 'had', 'he', 'her', 'if', 'impossible', 'in', 'is', 'it', 'know', 'last', 'long', 'looked', 'make', 'manner', 'means', 'measures', 'meet', 'met', 'mice', 'mouse', 'neck', 'neighbourhood', 'nobody', 'now', 'of', 'old', 'one', 'our', 'outwit', 'procured', 'proposal', 'propose', 'receive', 'remedies', 'retire', 'ribbon', 'round', 'said', 'she', 'should', 'signal', 'sly', 'small', 'some', 'spoke', 'take', 'that', 'the', 'their', 'then', 'therefore', 'they', 'this', 'thought', 'to', 'treacherous', 'until', 'up', 'us', 'venture', 'very', 'was', 'we', 'well', 'what', 'when', 'which', 'while', 'who', 'will', 'with', 'would', 'you', 'young']\n"
     ]
    }
   ],
   "source": [
    "vectorizer = TfidfVectorizer()\n",
    "X = vectorizer.fit_transform(story)\n",
    "print(vectorizer.get_feature_names())"
   ]
  },
  {
   "cell_type": "markdown",
   "metadata": {},
   "source": [
    "#### As you can see, the TFIDF ranks irrelevant words as important, this is primarily because there is not enough similar text to derive the inverse document frequency for this, in such cases we will go with normal frequency count and sentence ranking.\n",
    "##### Seperate script is provided for this"
   ]
  },
  {
   "cell_type": "markdown",
   "metadata": {},
   "source": [
    "##### we will limit this to sentence ranking, with Microsoft Bot framework, this can be put to many other use cases."
   ]
  },
  {
   "cell_type": "markdown",
   "metadata": {},
   "source": [
    "## Entity recognition - Identifying policy number from text document"
   ]
  },
  {
   "cell_type": "code",
   "execution_count": 7,
   "metadata": {
    "collapsed": true
   },
   "outputs": [],
   "source": [
    "policy1=pd.read_table(\"1_pol.txt\", error_bad_lines=False)"
   ]
  },
  {
   "cell_type": "code",
   "execution_count": 8,
   "metadata": {},
   "outputs": [
    {
     "data": {
      "text/html": [
       "<div>\n",
       "<style>\n",
       "    .dataframe thead tr:only-child th {\n",
       "        text-align: right;\n",
       "    }\n",
       "\n",
       "    .dataframe thead th {\n",
       "        text-align: left;\n",
       "    }\n",
       "\n",
       "    .dataframe tbody tr th {\n",
       "        vertical-align: top;\n",
       "    }\n",
       "</style>\n",
       "<table border=\"1\" class=\"dataframe\">\n",
       "  <thead>\n",
       "    <tr style=\"text-align: right;\">\n",
       "      <th></th>\n",
       "      <th>AAAAAAAAAA</th>\n",
       "    </tr>\n",
       "  </thead>\n",
       "  <tbody>\n",
       "    <tr>\n",
       "      <th>0</th>\n",
       "      <td>Policy Information:</td>\n",
       "    </tr>\n",
       "    <tr>\n",
       "      <th>1</th>\n",
       "      <td>Policy Holder Details                                       Contact Us</td>\n",
       "    </tr>\n",
       "    <tr>\n",
       "      <th>2</th>\n",
       "      <td>TAILORED TRAINING PROGRAMS, LLC                    Business Service Center</td>\n",
       "    </tr>\n",
       "    <tr>\n",
       "      <th>3</th>\n",
       "      <td>Business Hours: Monday - Friday</td>\n",
       "    </tr>\n",
       "    <tr>\n",
       "      <th>4</th>\n",
       "      <td>Policy Number            Policy Term</td>\n",
       "    </tr>\n",
       "    <tr>\n",
       "      <th>5</th>\n",
       "      <td>99 XYX JK123            08/19/18 to 08/19/19</td>\n",
       "    </tr>\n",
       "    <tr>\n",
       "      <th>6</th>\n",
       "      <td>Producer's Name:   ABC SERVICES</td>\n",
       "    </tr>\n",
       "    <tr>\n",
       "      <th>7</th>\n",
       "      <td>Producer's Code:   22270548</td>\n",
       "    </tr>\n",
       "    <tr>\n",
       "      <th>8</th>\n",
       "      <td>Producer's Fact Sheet</td>\n",
       "    </tr>\n",
       "    <tr>\n",
       "      <th>9</th>\n",
       "      <td>Account Details:</td>\n",
       "    </tr>\n",
       "    <tr>\n",
       "      <th>10</th>\n",
       "      <td>Account Number:          13645329</td>\n",
       "    </tr>\n",
       "    <tr>\n",
       "      <th>11</th>\n",
       "      <td>Payor:                   Insured</td>\n",
       "    </tr>\n",
       "    <tr>\n",
       "      <th>12</th>\n",
       "      <td>Bill Frequency:          Four Pay (30%Down+2@25%+</td>\n",
       "    </tr>\n",
       "    <tr>\n",
       "      <th>13</th>\n",
       "      <td>Transaction Type:        1@20%)</td>\n",
       "    </tr>\n",
       "    <tr>\n",
       "      <th>14</th>\n",
       "      <td>Renewal</td>\n",
       "    </tr>\n",
       "    <tr>\n",
       "      <th>15</th>\n",
       "      <td>Total Estimated Annual Premium: $3,731</td>\n",
       "    </tr>\n",
       "    <tr>\n",
       "      <th>16</th>\n",
       "      <td>WCP00040                                           Page 1</td>\n",
       "    </tr>\n",
       "    <tr>\n",
       "      <th>17</th>\n",
       "      <td>Line of Business                           Estimated Annual Premium Commission Percentage</td>\n",
       "    </tr>\n",
       "    <tr>\n",
       "      <th>18</th>\n",
       "      <td>Workers Compensation - Premium subject to</td>\n",
       "    </tr>\n",
       "    <tr>\n",
       "      <th>19</th>\n",
       "      <td>Commission                                 $3,362.00                            8.0</td>\n",
       "    </tr>\n",
       "    <tr>\n",
       "      <th>20</th>\n",
       "      <td>Terrorism &amp; DTEC</td>\n",
       "    </tr>\n",
       "    <tr>\n",
       "      <th>21</th>\n",
       "      <td>$119.00</td>\n",
       "    </tr>\n",
       "    <tr>\n",
       "      <th>22</th>\n",
       "      <td>Expense Constant                             $250.00</td>\n",
       "    </tr>\n",
       "    <tr>\n",
       "      <th>23</th>\n",
       "      <td>$3,731.00</td>\n",
       "    </tr>\n",
       "    <tr>\n",
       "      <th>24</th>\n",
       "      <td>Total</td>\n",
       "    </tr>\n",
       "    <tr>\n",
       "      <th>25</th>\n",
       "      <td>xxxxxxxxxxxxxxxxxxxxxxxxxxxxxxxxxxxxxxxxxxxxx</td>\n",
       "    </tr>\n",
       "    <tr>\n",
       "      <th>26</th>\n",
       "      <td>xxxxxxxxxxxxxxxxxxxxxxxxxxxxxxxxxxxxxxxxxxxxx</td>\n",
       "    </tr>\n",
       "    <tr>\n",
       "      <th>27</th>\n",
       "      <td>xxxxxxxxxxxxxxxxxxxxxxxxxxxxxxxxxxxxxxxxxxxxxx</td>\n",
       "    </tr>\n",
       "  </tbody>\n",
       "</table>\n",
       "</div>"
      ],
      "text/plain": [
       "                                                                                   AAAAAAAAAA\n",
       "0                                                                         Policy Information:\n",
       "1                      Policy Holder Details                                       Contact Us\n",
       "2                  TAILORED TRAINING PROGRAMS, LLC                    Business Service Center\n",
       "3                                                             Business Hours: Monday - Friday\n",
       "4                                         Policy Number            Policy Term               \n",
       "5                                        99 XYX JK123            08/19/18 to 08/19/19        \n",
       "6                                                             Producer's Name:   ABC SERVICES\n",
       "7                                                                 Producer's Code:   22270548\n",
       "8                                                                       Producer's Fact Sheet\n",
       "9                                                                            Account Details:\n",
       "10                                                          Account Number:          13645329\n",
       "11                                                           Payor:                   Insured\n",
       "12                                          Bill Frequency:          Four Pay (30%Down+2@25%+\n",
       "13                                                            Transaction Type:        1@20%)\n",
       "14                                                                                    Renewal\n",
       "15                                                     Total Estimated Annual Premium: $3,731\n",
       "16                                  WCP00040                                           Page 1\n",
       "17  Line of Business                           Estimated Annual Premium Commission Percentage\n",
       "18                                                  Workers Compensation - Premium subject to\n",
       "19        Commission                                 $3,362.00                            8.0\n",
       "20                                                                           Terrorism & DTEC\n",
       "21                                                                                    $119.00\n",
       "22                                       Expense Constant                             $250.00\n",
       "23                                                                                  $3,731.00\n",
       "24                                                                                      Total\n",
       "25                                              xxxxxxxxxxxxxxxxxxxxxxxxxxxxxxxxxxxxxxxxxxxxx\n",
       "26                                              xxxxxxxxxxxxxxxxxxxxxxxxxxxxxxxxxxxxxxxxxxxxx\n",
       "27                                             xxxxxxxxxxxxxxxxxxxxxxxxxxxxxxxxxxxxxxxxxxxxxx"
      ]
     },
     "execution_count": 8,
     "metadata": {},
     "output_type": "execute_result"
    }
   ],
   "source": [
    "policy1"
   ]
  },
  {
   "cell_type": "markdown",
   "metadata": {},
   "source": [
    "#### trial, lexical analysis using tokenization"
   ]
  },
  {
   "cell_type": "code",
   "execution_count": 9,
   "metadata": {
    "collapsed": true
   },
   "outputs": [],
   "source": [
    "wordtokens=policy1[\"AAAAAAAAAA\"].apply(lambda x:nltk.word_tokenize(x))"
   ]
  },
  {
   "cell_type": "code",
   "execution_count": 10,
   "metadata": {
    "collapsed": true
   },
   "outputs": [],
   "source": [
    "sentencetokens=policy1[\"AAAAAAAAAA\"].apply(lambda x:nltk.sent_tokenize(x))"
   ]
  },
  {
   "cell_type": "code",
   "execution_count": 11,
   "metadata": {},
   "outputs": [
    {
     "data": {
      "text/plain": [
       "0                                                                           [Policy Information:]\n",
       "1                        [Policy Holder Details                                       Contact Us]\n",
       "2                    [TAILORED TRAINING PROGRAMS, LLC                    Business Service Center]\n",
       "3            [                                                   Business Hours: Monday - Friday]\n",
       "4                                                          [Policy Number            Policy Term]\n",
       "5                                                  [99 XYX JK123            08/19/18 to 08/19/19]\n",
       "6                                                               [Producer's Name:   ABC SERVICES]\n",
       "7                                                                   [Producer's Code:   22270548]\n",
       "8                                                [                         Producer's Fact Sheet]\n",
       "9                                                                              [Account Details:]\n",
       "10                                                            [Account Number:          13645329]\n",
       "11                                                             [Payor:                   Insured]\n",
       "12                                            [Bill Frequency:          Four Pay (30%Down+2@25%+]\n",
       "13                                                              [Transaction Type:        1@20%)]\n",
       "14                                                             [                         Renewal]\n",
       "15                                                       [Total Estimated Annual Premium: $3,731]\n",
       "16                                    [WCP00040                                           Page 1]\n",
       "17    [Line of Business                           Estimated Annual Premium Commission Percentage]\n",
       "18                                                    [Workers Compensation - Premium subject to]\n",
       "19          [Commission                                 $3,362.00                            8.0]\n",
       "20                                                                             [Terrorism & DTEC]\n",
       "21                                         [                                             $119.00]\n",
       "22                                         [Expense Constant                             $250.00]\n",
       "23                                         [                                           $3,731.00]\n",
       "24                                                                                        [Total]\n",
       "25                                                [xxxxxxxxxxxxxxxxxxxxxxxxxxxxxxxxxxxxxxxxxxxxx]\n",
       "26                                                [xxxxxxxxxxxxxxxxxxxxxxxxxxxxxxxxxxxxxxxxxxxxx]\n",
       "27                                               [xxxxxxxxxxxxxxxxxxxxxxxxxxxxxxxxxxxxxxxxxxxxxx]\n",
       "Name: AAAAAAAAAA, dtype: object"
      ]
     },
     "execution_count": 11,
     "metadata": {},
     "output_type": "execute_result"
    }
   ],
   "source": [
    "sentencetokens"
   ]
  },
  {
   "cell_type": "markdown",
   "metadata": {},
   "source": [
    "#### Parts of Speech tagging"
   ]
  },
  {
   "cell_type": "code",
   "execution_count": 12,
   "metadata": {
    "collapsed": true
   },
   "outputs": [],
   "source": [
    "postags=sentencetokens.apply(lambda x:nltk.pos_tag(x,tagset='universal'))"
   ]
  },
  {
   "cell_type": "code",
   "execution_count": 13,
   "metadata": {},
   "outputs": [
    {
     "data": {
      "text/plain": [
       "0                                                                           [(Policy Information:, NOUN)]\n",
       "1                        [(Policy Holder Details                                       Contact Us, NOUN)]\n",
       "2                    [(TAILORED TRAINING PROGRAMS, LLC                    Business Service Center, NOUN)]\n",
       "3             [(                                                   Business Hours: Monday - Friday, ADJ)]\n",
       "4                                                          [(Policy Number            Policy Term, NOUN)]\n",
       "5                                                   [(99 XYX JK123            08/19/18 to 08/19/19, NUM)]\n",
       "6                                                               [(Producer's Name:   ABC SERVICES, NOUN)]\n",
       "7                                                                   [(Producer's Code:   22270548, NOUN)]\n",
       "8                                                [(                         Producer's Fact Sheet, NOUN)]\n",
       "9                                                                              [(Account Details:, NOUN)]\n",
       "10                                                            [(Account Number:          13645329, NOUN)]\n",
       "11                                                             [(Payor:                   Insured, VERB)]\n",
       "12                                            [(Bill Frequency:          Four Pay (30%Down+2@25%+, NOUN)]\n",
       "13                                                              [(Transaction Type:        1@20%), NOUN)]\n",
       "14                                                             [(                         Renewal, NOUN)]\n",
       "15                                                       [(Total Estimated Annual Premium: $3,731, NOUN)]\n",
       "16                                    [(WCP00040                                           Page 1, NOUN)]\n",
       "17    [(Line of Business                           Estimated Annual Premium Commission Percentage, NOUN)]\n",
       "18                                                     [(Workers Compensation - Premium subject to, ADJ)]\n",
       "19          [(Commission                                 $3,362.00                            8.0, NOUN)]\n",
       "20                                                                             [(Terrorism & DTEC, NOUN)]\n",
       "21                                         [(                                             $119.00, NOUN)]\n",
       "22                                         [(Expense Constant                             $250.00, NOUN)]\n",
       "23                                         [(                                           $3,731.00, NOUN)]\n",
       "24                                                                                         [(Total, ADJ)]\n",
       "25                                                [(xxxxxxxxxxxxxxxxxxxxxxxxxxxxxxxxxxxxxxxxxxxxx, NOUN)]\n",
       "26                                                [(xxxxxxxxxxxxxxxxxxxxxxxxxxxxxxxxxxxxxxxxxxxxx, NOUN)]\n",
       "27                                               [(xxxxxxxxxxxxxxxxxxxxxxxxxxxxxxxxxxxxxxxxxxxxxx, NOUN)]\n",
       "Name: AAAAAAAAAA, dtype: object"
      ]
     },
     "execution_count": 13,
     "metadata": {},
     "output_type": "execute_result"
    }
   ],
   "source": [
    "postags"
   ]
  },
  {
   "cell_type": "markdown",
   "metadata": {},
   "source": [
    "#### for text documents, it is thus observed, regex matching would be a better option, this does not need a machine learning solution"
   ]
  },
  {
   "cell_type": "code",
   "execution_count": 14,
   "metadata": {
    "collapsed": true
   },
   "outputs": [],
   "source": [
    "import re"
   ]
  },
  {
   "cell_type": "code",
   "execution_count": 20,
   "metadata": {},
   "outputs": [],
   "source": [
    "def findpolicy(policy):\n",
    "    for tokens in policy.iterrows():\n",
    "        test=re.search(r'([0-9]{2}) ([A-Z]{3}) ([0-9A-Z]{5})',str(tokens[1]))\n",
    "        if test is not None:\n",
    "            print(test.group())\n",
    "        "
   ]
  },
  {
   "cell_type": "markdown",
   "metadata": {},
   "source": [
    "#### this can then be encapsulated as a function to facilitate re use"
   ]
  },
  {
   "cell_type": "code",
   "execution_count": 17,
   "metadata": {
    "collapsed": true
   },
   "outputs": [],
   "source": [
    "policy2=pd.read_table(\"2_pol.txt\", error_bad_lines=False)"
   ]
  },
  {
   "cell_type": "code",
   "execution_count": 19,
   "metadata": {},
   "outputs": [
    {
     "name": "stdout",
     "output_type": "stream",
     "text": [
      "99 XYX JK123\n"
     ]
    }
   ],
   "source": [
    "findpolicy(policy2)"
   ]
  },
  {
   "cell_type": "code",
   "execution_count": null,
   "metadata": {
    "collapsed": true
   },
   "outputs": [],
   "source": []
  },
  {
   "cell_type": "code",
   "execution_count": null,
   "metadata": {
    "collapsed": true
   },
   "outputs": [],
   "source": []
  },
  {
   "cell_type": "code",
   "execution_count": null,
   "metadata": {
    "collapsed": true
   },
   "outputs": [],
   "source": []
  },
  {
   "cell_type": "code",
   "execution_count": null,
   "metadata": {
    "collapsed": true
   },
   "outputs": [],
   "source": []
  },
  {
   "cell_type": "code",
   "execution_count": null,
   "metadata": {
    "collapsed": true
   },
   "outputs": [],
   "source": []
  }
 ],
 "metadata": {
  "kernelspec": {
   "display_name": "Python 3",
   "language": "python",
   "name": "python3"
  },
  "language_info": {
   "codemirror_mode": {
    "name": "ipython",
    "version": 3
   },
   "file_extension": ".py",
   "mimetype": "text/x-python",
   "name": "python",
   "nbconvert_exporter": "python",
   "pygments_lexer": "ipython3",
   "version": "3.6.3"
  }
 },
 "nbformat": 4,
 "nbformat_minor": 2
}
